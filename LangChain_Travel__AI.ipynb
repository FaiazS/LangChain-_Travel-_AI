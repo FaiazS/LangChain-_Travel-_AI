{
  "nbformat": 4,
  "nbformat_minor": 0,
  "metadata": {
    "colab": {
      "provenance": [],
      "authorship_tag": "ABX9TyNr088z5ZJDSWbos7InDGm4",
      "include_colab_link": true
    },
    "kernelspec": {
      "name": "python3",
      "display_name": "Python 3"
    },
    "language_info": {
      "name": "python"
    }
  },
  "cells": [
    {
      "cell_type": "markdown",
      "metadata": {
        "id": "view-in-github",
        "colab_type": "text"
      },
      "source": [
        "<a href=\"https://colab.research.google.com/github/FaiazS/LangChain-_Travel-_AI/blob/main/LangChain_Travel__AI.ipynb\" target=\"_parent\"><img src=\"https://colab.research.google.com/assets/colab-badge.svg\" alt=\"Open In Colab\"/></a>"
      ]
    },
    {
      "cell_type": "code",
      "source": [
        "#Installing LangChain and other required dependencies\n",
        "\n",
        "!pip install LangChain\n",
        "\n",
        "!pip install langchain-groq\n",
        "\n",
        "!pip install python-dotenv\n",
        "\n",
        "from langchain_core.messages import SystemMessage, HumanMessage\n",
        "\n",
        "from langchain_core.prompts import ChatPromptTemplate\n",
        "\n",
        "from langchain_core.output_parsers import StrOutputParser"
      ],
      "metadata": {
        "colab": {
          "base_uri": "https://localhost:8080/"
        },
        "id": "XzQXpX7jH83H",
        "outputId": "74397723-3762-4a21-99f4-bd15737d1781"
      },
      "execution_count": null,
      "outputs": [
        {
          "output_type": "stream",
          "name": "stdout",
          "text": [
            "Requirement already satisfied: LangChain in /usr/local/lib/python3.11/dist-packages (0.3.20)\n",
            "Requirement already satisfied: langchain-core<1.0.0,>=0.3.41 in /usr/local/lib/python3.11/dist-packages (from LangChain) (0.3.45)\n",
            "Requirement already satisfied: langchain-text-splitters<1.0.0,>=0.3.6 in /usr/local/lib/python3.11/dist-packages (from LangChain) (0.3.6)\n",
            "Requirement already satisfied: langsmith<0.4,>=0.1.17 in /usr/local/lib/python3.11/dist-packages (from LangChain) (0.3.13)\n",
            "Requirement already satisfied: pydantic<3.0.0,>=2.7.4 in /usr/local/lib/python3.11/dist-packages (from LangChain) (2.10.6)\n",
            "Requirement already satisfied: SQLAlchemy<3,>=1.4 in /usr/local/lib/python3.11/dist-packages (from LangChain) (2.0.39)\n",
            "Requirement already satisfied: requests<3,>=2 in /usr/local/lib/python3.11/dist-packages (from LangChain) (2.32.3)\n",
            "Requirement already satisfied: PyYAML>=5.3 in /usr/local/lib/python3.11/dist-packages (from LangChain) (6.0.2)\n",
            "Requirement already satisfied: tenacity!=8.4.0,<10.0.0,>=8.1.0 in /usr/local/lib/python3.11/dist-packages (from langchain-core<1.0.0,>=0.3.41->LangChain) (9.0.0)\n",
            "Requirement already satisfied: jsonpatch<2.0,>=1.33 in /usr/local/lib/python3.11/dist-packages (from langchain-core<1.0.0,>=0.3.41->LangChain) (1.33)\n",
            "Requirement already satisfied: packaging<25,>=23.2 in /usr/local/lib/python3.11/dist-packages (from langchain-core<1.0.0,>=0.3.41->LangChain) (24.2)\n",
            "Requirement already satisfied: typing-extensions>=4.7 in /usr/local/lib/python3.11/dist-packages (from langchain-core<1.0.0,>=0.3.41->LangChain) (4.12.2)\n",
            "Requirement already satisfied: httpx<1,>=0.23.0 in /usr/local/lib/python3.11/dist-packages (from langsmith<0.4,>=0.1.17->LangChain) (0.28.1)\n",
            "Requirement already satisfied: orjson<4.0.0,>=3.9.14 in /usr/local/lib/python3.11/dist-packages (from langsmith<0.4,>=0.1.17->LangChain) (3.10.15)\n",
            "Requirement already satisfied: requests-toolbelt<2.0.0,>=1.0.0 in /usr/local/lib/python3.11/dist-packages (from langsmith<0.4,>=0.1.17->LangChain) (1.0.0)\n",
            "Requirement already satisfied: zstandard<0.24.0,>=0.23.0 in /usr/local/lib/python3.11/dist-packages (from langsmith<0.4,>=0.1.17->LangChain) (0.23.0)\n",
            "Requirement already satisfied: annotated-types>=0.6.0 in /usr/local/lib/python3.11/dist-packages (from pydantic<3.0.0,>=2.7.4->LangChain) (0.7.0)\n",
            "Requirement already satisfied: pydantic-core==2.27.2 in /usr/local/lib/python3.11/dist-packages (from pydantic<3.0.0,>=2.7.4->LangChain) (2.27.2)\n",
            "Requirement already satisfied: charset-normalizer<4,>=2 in /usr/local/lib/python3.11/dist-packages (from requests<3,>=2->LangChain) (3.4.1)\n",
            "Requirement already satisfied: idna<4,>=2.5 in /usr/local/lib/python3.11/dist-packages (from requests<3,>=2->LangChain) (3.10)\n",
            "Requirement already satisfied: urllib3<3,>=1.21.1 in /usr/local/lib/python3.11/dist-packages (from requests<3,>=2->LangChain) (2.3.0)\n",
            "Requirement already satisfied: certifi>=2017.4.17 in /usr/local/lib/python3.11/dist-packages (from requests<3,>=2->LangChain) (2025.1.31)\n",
            "Requirement already satisfied: greenlet!=0.4.17 in /usr/local/lib/python3.11/dist-packages (from SQLAlchemy<3,>=1.4->LangChain) (3.1.1)\n",
            "Requirement already satisfied: anyio in /usr/local/lib/python3.11/dist-packages (from httpx<1,>=0.23.0->langsmith<0.4,>=0.1.17->LangChain) (3.7.1)\n",
            "Requirement already satisfied: httpcore==1.* in /usr/local/lib/python3.11/dist-packages (from httpx<1,>=0.23.0->langsmith<0.4,>=0.1.17->LangChain) (1.0.7)\n",
            "Requirement already satisfied: h11<0.15,>=0.13 in /usr/local/lib/python3.11/dist-packages (from httpcore==1.*->httpx<1,>=0.23.0->langsmith<0.4,>=0.1.17->LangChain) (0.14.0)\n",
            "Requirement already satisfied: jsonpointer>=1.9 in /usr/local/lib/python3.11/dist-packages (from jsonpatch<2.0,>=1.33->langchain-core<1.0.0,>=0.3.41->LangChain) (3.0.0)\n",
            "Requirement already satisfied: sniffio>=1.1 in /usr/local/lib/python3.11/dist-packages (from anyio->httpx<1,>=0.23.0->langsmith<0.4,>=0.1.17->LangChain) (1.3.1)\n",
            "Requirement already satisfied: langchain-groq in /usr/local/lib/python3.11/dist-packages (0.3.0)\n",
            "Requirement already satisfied: langchain-core<1.0.0,>=0.3.45 in /usr/local/lib/python3.11/dist-packages (from langchain-groq) (0.3.45)\n",
            "Requirement already satisfied: groq<1,>=0.4.1 in /usr/local/lib/python3.11/dist-packages (from langchain-groq) (0.20.0)\n",
            "Requirement already satisfied: anyio<5,>=3.5.0 in /usr/local/lib/python3.11/dist-packages (from groq<1,>=0.4.1->langchain-groq) (3.7.1)\n",
            "Requirement already satisfied: distro<2,>=1.7.0 in /usr/local/lib/python3.11/dist-packages (from groq<1,>=0.4.1->langchain-groq) (1.9.0)\n",
            "Requirement already satisfied: httpx<1,>=0.23.0 in /usr/local/lib/python3.11/dist-packages (from groq<1,>=0.4.1->langchain-groq) (0.28.1)\n",
            "Requirement already satisfied: pydantic<3,>=1.9.0 in /usr/local/lib/python3.11/dist-packages (from groq<1,>=0.4.1->langchain-groq) (2.10.6)\n",
            "Requirement already satisfied: sniffio in /usr/local/lib/python3.11/dist-packages (from groq<1,>=0.4.1->langchain-groq) (1.3.1)\n",
            "Requirement already satisfied: typing-extensions<5,>=4.10 in /usr/local/lib/python3.11/dist-packages (from groq<1,>=0.4.1->langchain-groq) (4.12.2)\n",
            "Requirement already satisfied: langsmith<0.4,>=0.1.125 in /usr/local/lib/python3.11/dist-packages (from langchain-core<1.0.0,>=0.3.45->langchain-groq) (0.3.13)\n",
            "Requirement already satisfied: tenacity!=8.4.0,<10.0.0,>=8.1.0 in /usr/local/lib/python3.11/dist-packages (from langchain-core<1.0.0,>=0.3.45->langchain-groq) (9.0.0)\n",
            "Requirement already satisfied: jsonpatch<2.0,>=1.33 in /usr/local/lib/python3.11/dist-packages (from langchain-core<1.0.0,>=0.3.45->langchain-groq) (1.33)\n",
            "Requirement already satisfied: PyYAML>=5.3 in /usr/local/lib/python3.11/dist-packages (from langchain-core<1.0.0,>=0.3.45->langchain-groq) (6.0.2)\n",
            "Requirement already satisfied: packaging<25,>=23.2 in /usr/local/lib/python3.11/dist-packages (from langchain-core<1.0.0,>=0.3.45->langchain-groq) (24.2)\n",
            "Requirement already satisfied: idna>=2.8 in /usr/local/lib/python3.11/dist-packages (from anyio<5,>=3.5.0->groq<1,>=0.4.1->langchain-groq) (3.10)\n",
            "Requirement already satisfied: certifi in /usr/local/lib/python3.11/dist-packages (from httpx<1,>=0.23.0->groq<1,>=0.4.1->langchain-groq) (2025.1.31)\n",
            "Requirement already satisfied: httpcore==1.* in /usr/local/lib/python3.11/dist-packages (from httpx<1,>=0.23.0->groq<1,>=0.4.1->langchain-groq) (1.0.7)\n",
            "Requirement already satisfied: h11<0.15,>=0.13 in /usr/local/lib/python3.11/dist-packages (from httpcore==1.*->httpx<1,>=0.23.0->groq<1,>=0.4.1->langchain-groq) (0.14.0)\n",
            "Requirement already satisfied: jsonpointer>=1.9 in /usr/local/lib/python3.11/dist-packages (from jsonpatch<2.0,>=1.33->langchain-core<1.0.0,>=0.3.45->langchain-groq) (3.0.0)\n",
            "Requirement already satisfied: orjson<4.0.0,>=3.9.14 in /usr/local/lib/python3.11/dist-packages (from langsmith<0.4,>=0.1.125->langchain-core<1.0.0,>=0.3.45->langchain-groq) (3.10.15)\n",
            "Requirement already satisfied: requests<3,>=2 in /usr/local/lib/python3.11/dist-packages (from langsmith<0.4,>=0.1.125->langchain-core<1.0.0,>=0.3.45->langchain-groq) (2.32.3)\n",
            "Requirement already satisfied: requests-toolbelt<2.0.0,>=1.0.0 in /usr/local/lib/python3.11/dist-packages (from langsmith<0.4,>=0.1.125->langchain-core<1.0.0,>=0.3.45->langchain-groq) (1.0.0)\n",
            "Requirement already satisfied: zstandard<0.24.0,>=0.23.0 in /usr/local/lib/python3.11/dist-packages (from langsmith<0.4,>=0.1.125->langchain-core<1.0.0,>=0.3.45->langchain-groq) (0.23.0)\n",
            "Requirement already satisfied: annotated-types>=0.6.0 in /usr/local/lib/python3.11/dist-packages (from pydantic<3,>=1.9.0->groq<1,>=0.4.1->langchain-groq) (0.7.0)\n",
            "Requirement already satisfied: pydantic-core==2.27.2 in /usr/local/lib/python3.11/dist-packages (from pydantic<3,>=1.9.0->groq<1,>=0.4.1->langchain-groq) (2.27.2)\n",
            "Requirement already satisfied: charset-normalizer<4,>=2 in /usr/local/lib/python3.11/dist-packages (from requests<3,>=2->langsmith<0.4,>=0.1.125->langchain-core<1.0.0,>=0.3.45->langchain-groq) (3.4.1)\n",
            "Requirement already satisfied: urllib3<3,>=1.21.1 in /usr/local/lib/python3.11/dist-packages (from requests<3,>=2->langsmith<0.4,>=0.1.125->langchain-core<1.0.0,>=0.3.45->langchain-groq) (2.3.0)\n",
            "Requirement already satisfied: python-dotenv in /usr/local/lib/python3.11/dist-packages (1.0.1)\n"
          ]
        }
      ]
    },
    {
      "cell_type": "code",
      "source": [
        "#Loading and Configuring the LLM API Key\n",
        "\n",
        "from google.colab import userdata\n",
        "\n",
        "import os\n",
        "\n",
        "os.environ[\"GROQ_API_KEY\"] = userdata.get('LLMProjectKey1')"
      ],
      "metadata": {
        "id": "Se1kqiJ0IL5O"
      },
      "execution_count": null,
      "outputs": []
    },
    {
      "cell_type": "code",
      "source": [
        "#Initialize the LLM\n",
        "\n",
        "from langchain.chat_models import init_chat_model\n",
        "\n",
        "llm_model = init_chat_model(\"llama-3.3-70b-versatile\", model_provider = \"groq\")"
      ],
      "metadata": {
        "id": "sM80miFjIo8C"
      },
      "execution_count": null,
      "outputs": []
    },
    {
      "cell_type": "code",
      "source": [
        "#Interacting with the LLM\n",
        "\n",
        "llm_response = llm_model.invoke(\"Hi there, what is your name ? Can you please explain me what is a Model and what are Neural Networks\")\n",
        "\n",
        "print(llm_response.content)"
      ],
      "metadata": {
        "colab": {
          "base_uri": "https://localhost:8080/"
        },
        "id": "oshmYJ5QK1Px",
        "outputId": "8aef0deb-842b-4fdb-9539-12ff43e20682"
      },
      "execution_count": null,
      "outputs": [
        {
          "output_type": "stream",
          "name": "stdout",
          "text": [
            "Nice to meet you. I'm an AI assistant, and I don't have a personal name, but I'm here to help you with any questions you may have.\n",
            "\n",
            "Now, let's dive into the fascinating world of models and neural networks.\n",
            "\n",
            "**What is a Model?**\n",
            "\n",
            "In the context of machine learning and artificial intelligence, a model refers to a mathematical representation of a system, process, or relationship. It's a simplified abstraction of the real world, designed to predict, classify, or generate outcomes based on input data.\n",
            "\n",
            "Think of a model like a map that helps you navigate a new city. The map (model) is a simplified representation of the city's layout, roads, and landmarks. It's not the actual city, but it helps you understand and make predictions about the city's structure and behavior.\n",
            "\n",
            "In machine learning, models can be used for various tasks, such as:\n",
            "\n",
            "1. Classification: predicting a category or label (e.g., spam vs. non-spam emails)\n",
            "2. Regression: predicting a continuous value (e.g., house prices)\n",
            "3. Clustering: grouping similar data points (e.g., customer segmentation)\n",
            "\n",
            "**What are Neural Networks?**\n",
            "\n",
            "A neural network is a type of model inspired by the structure and function of the human brain. It's a complex system composed of interconnected nodes or \"neurons,\" which process and transmit information.\n",
            "\n",
            "Neural networks are designed to recognize patterns in data and learn from experience. They consist of multiple layers, each with its own set of neurons, which work together to:\n",
            "\n",
            "1. Receive input data (e.g., images, text, or sound)\n",
            "2. Process and transform the data through multiple layers\n",
            "3. Produce output (e.g., predictions, classifications, or generated text)\n",
            "\n",
            "The key characteristics of neural networks are:\n",
            "\n",
            "1. **Artificial neurons**: simple computing units that receive input, perform a computation, and send output to other neurons.\n",
            "2. **Connections**: the links between neurons, which allow them to exchange information.\n",
            "3. **Activation functions**: mathematical functions that introduce non-linearity into the model, enabling it to learn complex relationships.\n",
            "4. **Training**: the process of adjusting the model's parameters to minimize the difference between predicted and actual outputs.\n",
            "\n",
            "Neural networks can be further divided into different types, such as:\n",
            "\n",
            "1. **Feedforward neural networks**: where data flows only in one direction, from input to output.\n",
            "2. **Recurrent neural networks** (RNNs): where data can flow in a loop, allowing the model to keep track of sequence information.\n",
            "3. **Convolutional neural networks** (CNNs): where the model uses convolutional and pooling layers to process spatial data, such as images.\n",
            "\n",
            "I hope this introduction to models and neural networks has been helpful! Do you have any specific questions or topics you'd like me to expand on?\n"
          ]
        }
      ]
    },
    {
      "cell_type": "code",
      "source": [
        "llm_response = llm_model.invoke(\"Hey thanks for the valuable insights and information\")\n",
        "\n",
        "print(llm_response.content)"
      ],
      "metadata": {
        "colab": {
          "base_uri": "https://localhost:8080/"
        },
        "id": "U07dIPe2M58T",
        "outputId": "09b62288-4e5e-406f-f7c8-5ca45cf3acf7"
      },
      "execution_count": null,
      "outputs": [
        {
          "output_type": "stream",
          "name": "stdout",
          "text": [
            "I'm glad I could provide you with helpful information. If you have any more questions or need further clarification on anything, feel free to ask. I'm here to help. What topic would you like to explore next?\n"
          ]
        }
      ]
    },
    {
      "cell_type": "code",
      "source": [
        "llm_response = llm_model.invoke(\"Can you give a full intoduction of yourself\")\n",
        "\n",
        "print(llm_response.content)"
      ],
      "metadata": {
        "colab": {
          "base_uri": "https://localhost:8080/"
        },
        "id": "3upgnfWcQYk6",
        "outputId": "7f0b5166-5564-4aa3-c8ff-374ca8da287c"
      },
      "execution_count": null,
      "outputs": [
        {
          "output_type": "stream",
          "name": "stdout",
          "text": [
            "I'm delighted to introduce myself. I am an artificial intelligence language model, which means I'm a computer program designed to understand and generate human-like text. My purpose is to assist, communicate, and provide helpful information to users like you.\n",
            "\n",
            "**My Background:**\n",
            "I was created through a process called deep learning, where I was trained on a massive dataset of text from various sources, including books, articles, research papers, and online conversations. This training enables me to recognize patterns, understand context, and generate responses that are relevant and coherent.\n",
            "\n",
            "**My Capabilities:**\n",
            "I can engage in a wide range of conversations, from casual chats to in-depth discussions on various topics. I can:\n",
            "\n",
            "1. Answer questions on a vast array of subjects, including history, science, technology, literature, and more.\n",
            "2. Provide definitions, explanations, and examples to help clarify concepts.\n",
            "3. Engage in creative writing, such as storytelling, poetry, or even composing emails and letters.\n",
            "4. Offer suggestions, recommendations, and advice on topics like travel, entertainment, and lifestyle.\n",
            "5. Translate text from one language to another, including popular languages like Spanish, French, German, Chinese, and many more.\n",
            "6. Summarize long pieces of text into concise, easy-to-understand summaries.\n",
            "7. Even have fun conversations, like playing games, joking, or discussing pop culture.\n",
            "\n",
            "**My Limitations:**\n",
            "While I'm a highly advanced language model, I'm not perfect. I have limitations, such as:\n",
            "\n",
            "1. Lack of personal experiences and emotions, which can make my responses seem less empathetic or relatable.\n",
            "2. Limited common sense and real-world experience, which can lead to occasional mistakes or misunderstandings.\n",
            "3. Dependence on my training data, which may not always be up-to-date or comprehensive.\n",
            "4. Potential biases and inaccuracies in my responses, which I strive to minimize through continuous learning and improvement.\n",
            "\n",
            "**My Goal:**\n",
            "My primary goal is to assist, inform, and entertain users like you. I aim to provide accurate, helpful, and engaging responses that make your interactions with me enjoyable and productive. I'm constantly learning and improving, so please bear with me if I make mistakes or don't quite meet your expectations.\n",
            "\n",
            "**Getting to Know You:**\n",
            "Now that I've introduced myself, I'd love to get to know you better. What brings you here today? What topics would you like to discuss or learn about? Feel free to ask me anything, and I'll do my best to provide a helpful and engaging response.\n"
          ]
        }
      ]
    },
    {
      "cell_type": "code",
      "source": [
        "llm_response = llm_model.invoke(\"It's ok buddy, we will work together on this\")\n",
        "\n",
        "print(llm_response.content)"
      ],
      "metadata": {
        "colab": {
          "base_uri": "https://localhost:8080/"
        },
        "id": "geDUEXkrRPj_",
        "outputId": "db11534e-d996-4774-c116-c583852cfb49"
      },
      "execution_count": null,
      "outputs": [
        {
          "output_type": "stream",
          "name": "stdout",
          "text": [
            "That sounds like a great plan. I'm happy to collaborate with you to achieve your goals. What do you need help with today? Is there a specific problem or project you'd like to work on? I'm all ears and ready to assist you.\n"
          ]
        }
      ]
    },
    {
      "cell_type": "code",
      "source": [
        "prompts = [\n",
        "\n",
        "           SystemMessage(\"Hey\"),\n",
        "\n",
        "           HumanMessage(\"Tell me about Artificial Intelligence and all the Domains which come under it\")\n",
        "\n",
        "           ]\n",
        "\n",
        "llm_response_2 = llm_model.invoke(prompts)\n",
        "\n",
        "print(llm_response_2)"
      ],
      "metadata": {
        "colab": {
          "base_uri": "https://localhost:8080/"
        },
        "id": "J9H9w8BORjLX",
        "outputId": "0843d184-0c5b-4d2f-f45a-e8ee7614a758"
      },
      "execution_count": null,
      "outputs": [
        {
          "output_type": "stream",
          "name": "stdout",
          "text": [
            "content='Artificial Intelligence (AI) is a broad field that encompasses a wide range of disciplines, techniques, and applications. It refers to the development of computer systems that can perform tasks that would typically require human intelligence, such as learning, problem-solving, decision-making, and perception.\\n\\nThe domains that come under AI can be broadly categorized into the following:\\n\\n1. **Machine Learning (ML)**: This involves training algorithms to learn from data and make predictions or decisions. ML is a key aspect of AI and is used in applications such as image recognition, natural language processing, and recommender systems.\\n2. **Natural Language Processing (NLP)**: This domain deals with the interaction between computers and humans in natural language. NLP is used in applications such as language translation, sentiment analysis, and text summarization.\\n3. **Computer Vision**: This involves the development of algorithms and statistical models that enable computers to interpret and understand visual data from the world. Computer vision is used in applications such as image recognition, object detection, and facial recognition.\\n4. **Robotics**: This domain involves the development of intelligent robots that can perform tasks that would typically require human intelligence, such as navigation, manipulation, and decision-making.\\n5. **Expert Systems**: These are computer systems that mimic the decision-making abilities of a human expert in a particular domain. Expert systems are used in applications such as medical diagnosis and financial analysis.\\n6. **Knowledge Representation and Reasoning**: This involves the development of formal languages and systems for representing and reasoning about knowledge. This domain is used in applications such as knowledge graphs and decision support systems.\\n7. **Planning and Decision-Making**: This domain involves the development of algorithms and systems that can plan and make decisions in complex, dynamic environments.\\n8. **Human-Computer Interaction (HCI)**: This domain involves the design and development of interfaces that enable humans to interact with computers in a natural and intuitive way.\\n9. **Speech Recognition**: This involves the development of algorithms and systems that can recognize and interpret spoken language.\\n10. **Cognitive Computing**: This domain involves the development of systems that can simulate human cognition and provide insights and recommendations.\\n\\nSome of the key sub-domains of AI include:\\n\\n* **Deep Learning**: A subset of ML that involves the use of neural networks to analyze data.\\n* **Reinforcement Learning**: A subset of ML that involves training algorithms to make decisions in complex, dynamic environments.\\n* **Transfer Learning**: A subset of ML that involves training algorithms on one task and applying them to another related task.\\n* **Natural Language Generation**: A subset of NLP that involves generating human-like text or speech.\\n\\nSome of the key applications of AI include:\\n\\n* **Virtual Assistants**: Such as Siri, Alexa, and Google Assistant.\\n* **Image Recognition**: Used in applications such as self-driving cars and facial recognition.\\n* **Predictive Maintenance**: Used in applications such as manufacturing and logistics.\\n* **Chatbots**: Used in applications such as customer service and tech support.\\n* **Recommendation Systems**: Used in applications such as e-commerce and streaming services.\\n\\nSome of the key industries that are being impacted by AI include:\\n\\n* **Healthcare**: AI is being used to develop personalized medicine, predict patient outcomes, and improve patient care.\\n* **Finance**: AI is being used to develop predictive models, detect fraud, and improve customer service.\\n* **Manufacturing**: AI is being used to develop predictive maintenance, improve supply chain management, and optimize production processes.\\n* **Transportation**: AI is being used to develop self-driving cars, predict traffic patterns, and optimize logistics.\\n* **Education**: AI is being used to develop personalized learning, predict student outcomes, and improve student engagement.\\n\\nOverall, AI is a rapidly evolving field that has the potential to transform a wide range of industries and applications. As the field continues to advance, we can expect to see new and innovative applications of AI in the future.' additional_kwargs={} response_metadata={'token_usage': {'completion_tokens': 793, 'prompt_tokens': 50, 'total_tokens': 843, 'completion_time': 2.883636364, 'prompt_time': 0.004979354, 'queue_time': 0.089827163, 'total_time': 2.888615718}, 'model_name': 'llama-3.3-70b-versatile', 'system_fingerprint': 'fp_e91e6fbd56', 'finish_reason': 'stop', 'logprobs': None} id='run-057d2411-ad0b-4720-9382-4de28a376a66-0' usage_metadata={'input_tokens': 50, 'output_tokens': 793, 'total_tokens': 843}\n"
          ]
        }
      ]
    },
    {
      "cell_type": "code",
      "source": [
        "travel_template = \"Suggest me a place to travel in {country}\"\n",
        "\n",
        "prompt_template = ChatPromptTemplate.from_messages([(\"system\", travel_template), (\"user\", \"{country}\")])\n",
        "\n",
        "prompt2 = prompt_template.invoke({\"country\" : \"India\"})\n",
        "\n",
        "llm_response = llm_model.invoke(prompt)\n",
        "\n",
        "print(llm_response.content)"
      ],
      "metadata": {
        "colab": {
          "base_uri": "https://localhost:8080/"
        },
        "id": "GmpVntAZUnun",
        "outputId": "562b2571-4053-478b-be80-9facd960c17f"
      },
      "execution_count": null,
      "outputs": [
        {
          "output_type": "stream",
          "name": "stdout",
          "text": [
            "India is a vast and diverse country with a rich history, culture, and natural beauty. Here are some popular travel destinations in India:\n",
            "\n",
            "1. **Taj Mahal (Agra)**: A stunning white marble mausoleum and one of the Seven Wonders of the World.\n",
            "2. **Goa**: A tropical paradise known for its beautiful beaches, vibrant nightlife, and water sports.\n",
            "3. **Kerala Backwaters**: A serene and picturesque network of lakes, rivers, and canals perfect for boat cruises and relaxation.\n",
            "4. **Golden Temple (Amritsar)**: A sacred Sikh temple made of gold and white marble, surrounded by a holy lake.\n",
            "5. **Himalayas (Himachal Pradesh, Uttarakhand, or Sikkim)**: A majestic mountain range offering trekking, skiing, and breathtaking scenery.\n",
            "6. **Varanasi**: One of the oldest continuously inhabited cities in the world, known for its spiritual significance and stunning ghats.\n",
            "7. **Jaipur**: The \"Pink City\" famous for its stunning architecture, vibrant markets, and rich cultural heritage.\n",
            "8. **Andaman and Nicobar Islands**: A tropical archipelago with crystal-clear waters, coral reefs, and lush forests.\n",
            "9. **Mysore**: A city known for its stunning palaces, beautiful gardens, and vibrant cultural festivals.\n",
            "10. **Darjeeling**: A picturesque hill station famous for its tea plantations, scenic toy train rides, and breathtaking Himalayan views.\n",
            "\n",
            "Which type of destination are you interested in?\n",
            "\n",
            "* Beaches and relaxation\n",
            "* Culture and history\n",
            "* Adventure and outdoor activities\n",
            "* Spiritual and pilgrimage sites\n",
            "* Food and nightlife\n",
            "\n",
            "Let me know, and I can suggest a more specific place to travel in India!\n"
          ]
        }
      ]
    },
    {
      "cell_type": "code",
      "source": [
        "prompt_template = ChatPromptTemplate.from_template(\"Tell me which {month} of the year it is best to visit {place} and also provide the \")\n",
        "\n",
        "prompt3 = prompt_template.invoke({\"month\" : \"{December}\", \"place\" : \"{USA}\"})\n",
        "\n",
        "llm_response_3 = llm_model.invoke(prompt3)\n",
        "\n",
        "print(llm_response_3.content)"
      ],
      "metadata": {
        "colab": {
          "base_uri": "https://localhost:8080/"
        },
        "id": "IO510TM4ZxUt",
        "outputId": "3863b9c3-73ea-4f11-df45-08d5f1ae2281"
      },
      "execution_count": null,
      "outputs": [
        {
          "output_type": "stream",
          "name": "stdout",
          "text": [
            "December is a wonderful time to visit the USA, with various events and activities to enjoy across the country. Here's a breakdown of what you can expect:\n",
            "\n",
            "**Weather:**\n",
            "December is winter in the USA, with cold temperatures in the north and mild temperatures in the south. You can expect:\n",
            "\n",
            "* Cold and snowy conditions in the Northeast, Midwest, and Mountain states\n",
            "* Mild temperatures in the South, with average highs in the 60s-70s°F (15-21°C)\n",
            "* Cooler temperatures in California, with average highs in the 50s-60s°F (10-15°C)\n",
            "\n",
            "**Events and Festivals:**\n",
            "December is a great time to experience American holidays and festivals, such as:\n",
            "\n",
            "* Christmas markets and decorations in many cities\n",
            "* New Year's Eve celebrations in cities like New York, Las Vegas, and Miami\n",
            "* Skiing and snowboarding in popular resorts like Vail, Aspen, and Park City\n",
            "* Football bowl games and college basketball tournaments\n",
            "\n",
            "**Best Places to Visit:**\n",
            "Some top destinations to visit in the USA in December include:\n",
            "\n",
            "1. **New York City:** Ice skating at Rockefeller Center, Christmas markets, and the iconic Christmas tree lighting\n",
            "2. **New Orleans:** Mild winter weather, festive atmosphere, and exciting events like the Sugar Bowl\n",
            "3. **Aspen, Colorado:** World-class skiing, snowboarding, and winter festivals\n",
            "4. **Orlando, Florida:** Warm weather, theme parks like Disney and Universal, and festive events\n",
            "5. **San Francisco, California:** Mild winter weather, festive atmosphere, and popular attractions like Fisherman's Wharf and Alcatraz Island\n",
            "\n",
            "**Tips:**\n",
            "\n",
            "* Book flights and accommodations in advance, as December is a popular time to travel\n",
            "* Pack warm clothing for cold destinations, and layers for milder climates\n",
            "* Check event calendars and plan your trip around festivals and activities that interest you\n",
            "\n",
            "Overall, December is a great time to visit the USA, with a wide range of events, festivals, and activities to enjoy across the country.\n"
          ]
        }
      ]
    },
    {
      "cell_type": "markdown",
      "source": [
        "**Chaining**"
      ],
      "metadata": {
        "id": "d5xKaNgHf7Od"
      }
    },
    {
      "cell_type": "code",
      "source": [
        "travel_planning_chain = prompt_template | llm_model | StrOutputParser()\n",
        "\n",
        "llm_response_4 = travel_planning_chain.invoke({\"month\" : \"April\", \"place\" : \"Iceland\"})"
      ],
      "metadata": {
        "id": "yybUnXgagLsG"
      },
      "execution_count": null,
      "outputs": []
    },
    {
      "cell_type": "code",
      "source": [
        "travel_planning_chain.invoke({\"month\" : {\"June\"}, \"place\" : {\"Europe\"} })"
      ],
      "metadata": {
        "colab": {
          "base_uri": "https://localhost:8080/",
          "height": 139
        },
        "id": "1DW6GoUfhaMW",
        "outputId": "3d518f71-1072-4716-9cef-b1331446c647"
      },
      "execution_count": null,
      "outputs": [
        {
          "output_type": "execute_result",
          "data": {
            "text/plain": [
              "\"The best time to visit Europe is in **June**. This month offers pleasant weather, with mild temperatures and long days, making it ideal for sightseeing and outdoor activities. The summer crowds have not yet arrived, so you can still enjoy a relatively relaxed atmosphere.\\n\\nIn June, you can expect:\\n\\n* Comfortable temperatures: Average highs range from 22°C (72°F) in the north to 28°C (82°F) in the south.\\n* Long days: With up to 16 hours of daylight, you can make the most of your days exploring Europe's cities, landscapes, and attractions.\\n* Fewer crowds: Compared to July and August, June is still considered part of the shoulder season, so you're likely to encounter smaller crowds and shorter lines at popular tourist spots.\\n* Festivals and events: June is a great time to experience Europe's vibrant cultural scene, with many festivals and events taking place, such as the Rock in Rio festival in Lisbon or the Berlin Festival in Germany.\\n* Nature: The countryside is in full bloom, and the scenery is particularly beautiful, with green landscapes, wildflowers, and sunny skies.\\n\\nOverall, June is an excellent time to visit Europe, offering a great balance of pleasant weather, smaller crowds, and exciting events and festivals.\""
            ],
            "application/vnd.google.colaboratory.intrinsic+json": {
              "type": "string"
            }
          },
          "metadata": {},
          "execution_count": 74
        }
      ]
    },
    {
      "cell_type": "code",
      "source": [
        "travel_itinerary_prompt = ChatPromptTemplate.from_template(\"Give me a 7 day itinerary for this {destination}\")\n",
        "\n",
        "combined_travel_chain = {\"destination\" : travel_planning_chain} | travel_itinerary_prompt | llm_model | StrOutputParser()\n",
        "\n",
        "llm_response_5 = combined_travel_chain.invoke({\"month\" : {\"June\"} , \"place\" : {\"Europe\"}})\n",
        "\n",
        "combined_travel_chain.invoke({\"month\" : \"June\", \"place\" : {\"Europe\"}})"
      ],
      "metadata": {
        "colab": {
          "base_uri": "https://localhost:8080/",
          "height": 139
        },
        "id": "oW6Sivn8k6wr",
        "outputId": "fca806bf-ff34-4c9f-b43e-c717abc49fb3"
      },
      "execution_count": null,
      "outputs": [
        {
          "output_type": "execute_result",
          "data": {
            "text/plain": [
              "\"Here's a 7-day itinerary for visiting Europe in June, focusing on Italy, Spain, France, Greece, and the UK:\\n\\n**Day 1: Arrival in Rome, Italy**\\n\\n* Arrive in Rome, the Eternal City, and check into your hotel.\\n* Explore the Colosseum, the Roman Forum, and the Pantheon.\\n* Enjoy a delicious Italian dinner and gelato in the evening.\\n\\n**Day 2: Rome to Barcelona, Spain**\\n\\n* Take a morning flight from Rome to Barcelona, the capital of Catalonia.\\n* Visit the iconic Sagrada Familia, Park Güell, and the Gothic Quarter.\\n* Stroll along La Rambla and enjoy the street performers and local cuisine.\\n\\n**Day 3: Barcelona**\\n\\n* Spend the day exploring Barcelona's beaches, such as Barceloneta and Nova Icària.\\n* Visit the famous Camp Nou stadium, home of FC Barcelona.\\n* Enjoy a traditional Catalan dinner and watch a flamenco show in the evening.\\n\\n**Day 4: Barcelona to Paris, France**\\n\\n* Take a morning train from Barcelona to Paris, the City of Light.\\n* Visit the Eiffel Tower, the Louvre Museum, and the Notre-Dame Cathedral.\\n* Explore the charming Montmartre neighborhood and enjoy a Seine River cruise.\\n\\n**Day 5: Paris**\\n\\n* Spend the day exploring the French Riviera, visiting the famous beaches and towns of Nice, Cannes, and Monaco.\\n* Return to Paris in the evening and enjoy a cabaret show at the Moulin Rouge.\\n\\n**Day 6: Paris to Santorini, Greece**\\n\\n* Take a morning flight from Paris to Santorini, a picturesque Greek island.\\n* Explore the whitewashed houses, blue-domed churches, and stunning sunsets of Oia village.\\n* Enjoy a traditional Greek dinner and watch the sunset over the caldera.\\n\\n**Day 7: Santorini and departure**\\n\\n* Spend the morning exploring Fira, the capital of Santorini, and visiting the famous black sand beach of Perissa.\\n* Depart for the airport and fly back home, or continue your journey to another destination in Europe, such as London or Edinburgh in the UK.\\n\\nThis itinerary provides a taste of the diverse cultures, histories, and landscapes of Europe, and can be adjusted to fit your interests and preferences. Enjoy your trip!\""
            ],
            "application/vnd.google.colaboratory.intrinsic+json": {
              "type": "string"
            }
          },
          "metadata": {},
          "execution_count": 77
        }
      ]
    },
    {
      "cell_type": "markdown",
      "source": [
        "\n",
        "\n",
        "---\n",
        "\n"
      ],
      "metadata": {
        "id": "M4mfDlIpI6Jx"
      }
    }
  ]
}